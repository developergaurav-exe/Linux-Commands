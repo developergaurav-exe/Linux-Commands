{
 "cells": [
  {
   "cell_type": "code",
   "execution_count": null,
   "metadata": {
    "vscode": {
     "languageId": "shellscript"
    }
   },
   "outputs": [],
   "source": [
    "'''\n",
    "cd .. -> move back\n",
    "cd ~ -> move to root\n",
    "cd / -> move to root\n",
    "<any command> --help -> to get doc of any command\n",
    "!! -> to execute previous command\n",
    "'''"
   ]
  },
  {
   "cell_type": "markdown",
   "metadata": {},
   "source": [
    "<h2>inode<h2\n",
    ">"
   ]
  },
  {
   "cell_type": "code",
   "execution_count": 1,
   "metadata": {
    "vscode": {
     "languageId": "shellscript"
    }
   },
   "outputs": [
    {
     "data": {
      "text/plain": [
       "'\\nls -i -> inode to see all the node numbers\\n'"
      ]
     },
     "execution_count": 1,
     "metadata": {},
     "output_type": "execute_result"
    }
   ],
   "source": [
    "'''\n",
    "ls -i -> inode to see all the node numbers\n",
    "\n",
    "SOFT LINK: (Basically to make shortcut)\n",
    "ln -s <filename> <shortcut name>\n",
    "Inode no. change in soft link\n",
    "\n",
    "SOFT LINK IS ALLOWED AS IT IS BASICALLY A SHORTCUT\n",
    "\n",
    "HARD LINK:\n",
    "ln <filename> <name of the file you want to give>\n",
    "same inode in hard link\n",
    "\n",
    "HARD LINK NOT ALLOWED FOR DIRECTORIES\n",
    "'''"
   ]
  },
  {
   "cell_type": "markdown",
   "metadata": {},
   "source": [
    "<h2>\n",
    "list commands </h2>"
   ]
  },
  {
   "cell_type": "code",
   "execution_count": null,
   "metadata": {
    "vscode": {
     "languageId": "shellscript"
    }
   },
   "outputs": [],
   "source": [
    "'''\n",
    "ls -l long listing (Basically gives more info about it)\n",
    "ls -a hidden files showed\n",
    "ls -t sorts according to time\n",
    "ls -r reverse according to alphabets\n",
    "ls -R <dir-name> recursively shows every file in a particular directory\n",
    "\n",
    "Combined: Order does not matter\n",
    "like: ls -tr\n",
    "'''\n"
   ]
  },
  {
   "cell_type": "markdown",
   "metadata": {},
   "source": [
    "<h2>files</h2>"
   ]
  },
  {
   "cell_type": "code",
   "execution_count": null,
   "metadata": {
    "vscode": {
     "languageId": "shellscript"
    }
   },
   "outputs": [],
   "source": [
    "'''\n",
    "Only files are made with touch command and not\n",
    "Directories \n",
    "\n",
    "Syntax:\n",
    "touch <filename1> <filename2> <filename3> and so on...\n",
    "\n",
    "rm to remove files\n",
    "rm <filename1>\n",
    "rm -R to delete any file or directory\n",
    "rm -i to interactively delete any file or folder\n",
    "'''"
   ]
  },
  {
   "cell_type": "markdown",
   "metadata": {},
   "source": [
    "<h2>directories</h2>"
   ]
  },
  {
   "cell_type": "code",
   "execution_count": null,
   "metadata": {
    "vscode": {
     "languageId": "shellscript"
    }
   },
   "outputs": [],
   "source": [
    "'''\n",
    "mkdir to make directory\n",
    "rmdir to remove only \"EMPTY DIRECTORIES\"\n",
    "\n",
    "R and r are not case sensitive, so they both mean the same\n",
    "rm -R <directory1> to delete everything inside and including it recursively\n",
    "rm -i to interactively delete any file or folder\n",
    "rm -Ri <directory/file>\n",
    "rm -f <directory/file> forcefully delete\n",
    "'''"
   ]
  },
  {
   "cell_type": "markdown",
   "metadata": {},
   "source": [
    "<h2>verbose</h2>"
   ]
  },
  {
   "cell_type": "code",
   "execution_count": null,
   "metadata": {
    "vscode": {
     "languageId": "shellscript"
    }
   },
   "outputs": [],
   "source": [
    "'''\n",
    "rm -Rv <dir1> to get the summary while deleting each file or directory\n",
    "'''"
   ]
  },
  {
   "cell_type": "markdown",
   "metadata": {},
   "source": [
    "<h2>copy</h2>"
   ]
  },
  {
   "cell_type": "code",
   "execution_count": null,
   "metadata": {
    "vscode": {
     "languageId": "shellscript"
    }
   },
   "outputs": [],
   "source": [
    "'''\n",
    "cp <existing-file> <newfile> to copy all content from left to right\n",
    "cp <file1> <file2>... <dir1> to copy all files to dir1\n",
    "cp -i interactive copy paste\n",
    "cp -r <dir2> <dir1> copy dir2 in dir1\n",
    "\n",
    "### -r to be always used when handling directories\n",
    "\n",
    "'''"
   ]
  },
  {
   "cell_type": "markdown",
   "metadata": {},
   "source": [
    "<h2>rename and move</h2>"
   ]
  },
  {
   "cell_type": "code",
   "execution_count": null,
   "metadata": {
    "vscode": {
     "languageId": "shellscript"
    }
   },
   "outputs": [],
   "source": [
    "'''\n",
    "mv <file1> <text> to rename file1 to text\n",
    "# same command overwrites on text if any file is present with name text\n",
    "# and file1 is gone\n",
    "\n",
    "mv can be used to change visiblity of files or directories if we add or remove '.' \n",
    "\n",
    "### ADDING SPACES IN FILE NAMES OR DIRECTORIES\n",
    "mkdir my job -> This command will create separate folders my and job\n",
    "\n",
    "mkdir 'my job' -> Will create a single directory with a space\n",
    "OR USE\n",
    "mkdir my\\ cat -> Works similar to above command \n",
    "\n",
    "### ADDING SPECIAL CHARACTERS IN NAMES\n",
    "Use escape sequence to add it like:\n",
    "mkdir four\\<one\n",
    "\n",
    "But cannot add '/' forward slash in files even after this\n",
    "mkdir \\/dir -> permission denied\n",
    "'''\n"
   ]
  },
  {
   "cell_type": "markdown",
   "metadata": {},
   "source": [
    "<h2>change extension and file cmd</h2>"
   ]
  },
  {
   "cell_type": "code",
   "execution_count": null,
   "metadata": {
    "vscode": {
     "languageId": "shellscript"
    }
   },
   "outputs": [],
   "source": [
    "''' \n",
    "mv <f.pdf> <f.jpeg> extension will get changed but it will show error on opening\n",
    "file <filename> to check file type\n",
    "'''"
   ]
  },
  {
   "cell_type": "markdown",
   "metadata": {},
   "source": [
    "<h2>keyboard shortcuts</h2>"
   ]
  },
  {
   "cell_type": "code",
   "execution_count": null,
   "metadata": {
    "vscode": {
     "languageId": "shellscript"
    }
   },
   "outputs": [],
   "source": [
    "'''\n",
    "clear = CTRL + L\n",
    "\n",
    "# CTRL + A -> to bring cursor 'At the starting'\n",
    "# CTRL + E -> to bring cursor 'At the End'\n",
    "# CTRL + D -> to 'DELETE' where the cursor is at\n",
    "\n",
    "# To replace arrow keys if they are not working\n",
    "CTRL + F -> Forward the cursor\n",
    "CTRL + B -> Back the cursor\n",
    "'''"
   ]
  },
  {
   "cell_type": "markdown",
   "metadata": {},
   "source": [
    "<h2>gedit </h2\n",
    ">"
   ]
  },
  {
   "cell_type": "code",
   "execution_count": null,
   "metadata": {
    "vscode": {
     "languageId": "shellscript"
    }
   },
   "outputs": [],
   "source": [
    "'''\n",
    "Only runs in Ubuntu environment\n",
    "gedit <filename>\n",
    "'''"
   ]
  },
  {
   "cell_type": "markdown",
   "metadata": {},
   "source": [
    "<h2>nano </h2\n",
    ">"
   ]
  },
  {
   "cell_type": "code",
   "execution_count": null,
   "metadata": {
    "vscode": {
     "languageId": "shellscript"
    }
   },
   "outputs": [],
   "source": [
    "'''\n",
    "'write out' is same as 'save'\n",
    "more better than 'vim'\n",
    "'''"
   ]
  },
  {
   "cell_type": "markdown",
   "metadata": {},
   "source": [
    "<h2>history<h2>"
   ]
  },
  {
   "cell_type": "code",
   "execution_count": null,
   "metadata": {
    "vscode": {
     "languageId": "shellscript"
    }
   },
   "outputs": [],
   "source": [
    "'''\n",
    "history <number of commands to see> -> to look previous commands\n",
    "!<no.of command> -> to execute the command which is on that number\n",
    "'''"
   ]
  },
  {
   "cell_type": "markdown",
   "metadata": {},
   "source": [
    "<h2>viewing </h2>"
   ]
  },
  {
   "cell_type": "code",
   "execution_count": null,
   "metadata": {
    "vscode": {
     "languageId": "shellscript"
    }
   },
   "outputs": [],
   "source": [
    "'''\n",
    "less <filename> -> to see file contents in unix interface\n",
    "cat -> To see all file contents (concatenate)\n",
    "tac -> To see all file contents reversed\n",
    "'''"
   ]
  },
  {
   "cell_type": "markdown",
   "metadata": {},
   "source": [
    "<h2>head/tail and wc\n",
    "</h2>"
   ]
  },
  {
   "cell_type": "code",
   "execution_count": null,
   "metadata": {
    "vscode": {
     "languageId": "shellscript"
    }
   },
   "outputs": [],
   "source": [
    "'''\n",
    "Create a file using this\n",
    "for((i=1; i<=100; i++)); do echo $i >> hundred; done\n",
    "\n",
    "head <filename> -> to print first 10 lines by default\n",
    "head -n <no of lines to get displayed> <filename> -> To print n number of lines from the starting\n",
    "\n",
    "tail <filename> -> to print last 10 lines by default\n",
    "tail -n <no of lines to get displayed> <filename> -> To print n number of lines from the ending\n",
    "\n",
    "wc <filename> -> for word count Output is like(<no of lines> | <no of words> | <size> | <filename>)\n",
    "wc -l <filename> -> for no of lines\n",
    "wc -w <filename> -> for no of words\n",
    "wc -c <filename> -> for no of bytes\n",
    "wc -L <filename> -> for no of bytes for longest line\n",
    "'''\n"
   ]
  },
  {
   "cell_type": "markdown",
   "metadata": {},
   "source": [
    "<h2>combining commands</h2>"
   ]
  },
  {
   "cell_type": "code",
   "execution_count": null,
   "metadata": {
    "vscode": {
     "languageId": "shellscript"
    }
   },
   "outputs": [],
   "source": [
    "'''\n",
    "<cmd1> ; <cmd2> ; <cmd3> .... -> if you want to run all cmds even if something in between will produce error\n",
    "<cmd1> && <cmd2> && <cmd3> .... -> if you want to stop when a command throws error\n",
    "'''"
   ]
  },
  {
   "cell_type": "markdown",
   "metadata": {},
   "source": [
    "## types of cmds"
   ]
  },
  {
   "cell_type": "code",
   "execution_count": null,
   "metadata": {},
   "outputs": [],
   "source": [
    "'''\n",
    "1. Executable Programs -> cp, mv ...\n",
    "2. Shell Builtin -> cd\n",
    "3. Shell Script\n",
    "4. Alias -> ls \n",
    "\n",
    "type <command> -> to check the type\n",
    "file <file/directory> -> to see details about it\n",
    "'''"
   ]
  },
  {
   "cell_type": "markdown",
   "metadata": {},
   "source": [
    "## miscellaneous"
   ]
  },
  {
   "cell_type": "code",
   "execution_count": null,
   "metadata": {},
   "outputs": [],
   "source": [
    "'''\n",
    "which\n",
    "=====\n",
    "\n",
    "which <cmd-name> -> display an executable location\n",
    "WHICH CMD DOES NOT GIVE ANY OUTPUT IF <SHELL BUILTIN>\n",
    "\n",
    "help/ man\n",
    "=========\n",
    "\n",
    "<shell-builtin> --help OR help <shell-builtin> -> command manual\n",
    "man <executable-program> -> to see more info\n",
    "\n",
    "whatis\n",
    "======\n",
    "\n",
    "whatis <executable command> -> displays one line manual page description\n",
    "DOESN'T WORKS WITH SHELL BUILTIN COMMAND\n",
    "'''"
   ]
  },
  {
   "cell_type": "markdown",
   "metadata": {},
   "source": [
    "## wildcards"
   ]
  },
  {
   "cell_type": "code",
   "execution_count": null,
   "metadata": {},
   "outputs": [],
   "source": [
    "'''\n",
    "wildcard is a symbol that represents one or more characters\n",
    "* -> match(represent) any character\n",
    "? -> match(represent) single character\n",
    "%\n",
    "! -> to negate character class\n",
    "[<letters>] -> range of letters\n",
    "[!<letters>] -> range of complement of letters\n",
    "\n",
    "CATEGORIES:\n",
    "<command> [[:lower:]]* dir\n",
    "<command> [[:upper:]]* dir\n",
    "<command> [[:digit:]]* dir\n",
    "<command> [[:alpha:]]* dir\n",
    "<command> [[:alnum:]]* dir\n",
    "\n",
    "For example, \n",
    "cp *.txt dir -> any file with .txt extension\n",
    "cp g? dir -> any file with one more character after g\n",
    "cp [abc]* dir -> any file starting with a or b or c \n",
    "cp [!abc]* dir\n",
    "cp [1-9]* dir -> copy names starting from 1 to 9 to directory\n",
    "'''"
   ]
  },
  {
   "cell_type": "markdown",
   "metadata": {},
   "source": [
    "## alias"
   ]
  },
  {
   "cell_type": "code",
   "execution_count": null,
   "metadata": {},
   "outputs": [],
   "source": [
    "'''\n",
    "alias\n",
    "=====\n",
    "alias -> to see number of alias\n",
    "alias <new-command-name>=\"<enter-command>\" -> alias for the entered command is genrated\n",
    "\n",
    "Example:\n",
    "alias home=\"cd Dropbox/My\\ PC\\ \\(DESKTOP-5JVQ0UA\\)/desktop/PythonPrograms/test/\"\n",
    "Now only need to use home to get to the test directory\n",
    "\n",
    "unalias\n",
    "=======\n",
    "unalias <alias-name> -> to unlink alias\n",
    "\n",
    "TO MAKE ALIAS PERMANENT\n",
    "\n",
    "'''"
   ]
  }
 ],
 "metadata": {
  "kernelspec": {
   "display_name": "Python 3.10.5 64-bit",
   "language": "python",
   "name": "python3"
  },
  "language_info": {
   "codemirror_mode": {
    "name": "ipython",
    "version": 3
   },
   "file_extension": ".py",
   "mimetype": "text/x-python",
   "name": "python",
   "nbconvert_exporter": "python",
   "pygments_lexer": "ipython3",
   "version": "3.10.5"
  },
  "orig_nbformat": 4,
  "vscode": {
   "interpreter": {
    "hash": "e8899eb02dfbc033aab5733bdae1bd213fa031d40331094008e8673d99ebab63"
   }
  }
 },
 "nbformat": 4,
 "nbformat_minor": 2
}
